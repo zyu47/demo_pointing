{
 "cells": [
  {
   "cell_type": "code",
   "execution_count": 35,
   "metadata": {},
   "outputs": [
    {
     "name": "stdout",
     "output_type": "stream",
     "text": [
      "['[0.00444366 0.16696916]', '[0.00192    0.00379148]\\n']\n",
      "['[0.01620646 0.00893272]', '[0.016      0.03253354]\\n']\n"
     ]
    }
   ],
   "source": [
    "var_desk_left = [[], []]  # x and y\n",
    "var_desk_right = [[], []]\n",
    "f = open('record_0427_desk.txt')\n",
    "for line in f:\n",
    "    if line[:3] == 'Var':\n",
    "        tmp = line.split('Variance: ')[1].split('\\t')\n",
    "        if tmp[0][1] == ' ':\n",
    "            tmp[0] = '[' + tmp[0][2:]\n",
    "    \n",
    "        if tmp[1][1] == ' ':\n",
    "            tmp[1] = '[' + tmp[0][2:]\n",
    "            \n",
    "        if tmp[0][1] == '  ':\n",
    "            tmp[0] = '[' + tmp[0][3:]\n",
    "    \n",
    "    \n",
    "        try:\n",
    "            var_desk_left[0].append(float(tmp[0][1:-1].split(' ')[0]))\n",
    "        except ValueError as e:\n",
    "            try:\n",
    "                var_desk_left[0].append(float(tmp[0][1:-1].split('  ')[0]))\n",
    "            except ValueError as e:\n",
    "                print(tmp)\n",
    "                \n",
    "        try:\n",
    "            var_desk_left[1].append(float(tmp[0][1:-1].split(' ')[1]))\n",
    "        except ValueError as e:\n",
    "            try:\n",
    "                var_desk_left[1].append(float(tmp[0][1:-1].split('  ')[1]))\n",
    "            except ValueError as e:\n",
    "                print(tmp)\n",
    "            \n",
    "        try:\n",
    "            var_desk_right[0].append(float(tmp[1][1:-2].split(' ')[0]))\n",
    "        except ValueError as e:\n",
    "            try:\n",
    "                var_desk_right[0].append(float(tmp[1][1:-2].split('  ')[0]))\n",
    "            except ValueError as e:\n",
    "                print(tmp)\n",
    "        \n",
    "        try:\n",
    "            var_desk_right[1].append(float(tmp[1][1:-2].split(' ')[1]))\n",
    "        except ValueError as e:\n",
    "            try:\n",
    "                var_desk_right[1].append(float(tmp[1][1:-2].split('  ')[1]))\n",
    "            except ValueError as e:\n",
    "                print(tmp)\n",
    "#         print(var_desk_left, var_desk_right)\n",
    "#         break"
   ]
  },
  {
   "cell_type": "code",
   "execution_count": 18,
   "metadata": {},
   "outputs": [],
   "source": [
    "import matplotlib.pyplot as plt\n",
    "%matplotlib inline"
   ]
  },
  {
   "cell_type": "code",
   "execution_count": 36,
   "metadata": {
    "scrolled": true
   },
   "outputs": [
    {
     "data": {
      "image/png": "[encoded data removed]",
      "text/plain": [
       "<Figure size 1080x432 with 2 Axes>"
      ]
     },
     "metadata": {},
     "output_type": "display_data"
    }
   ],
   "source": [
    "plt.figure(figsize=(15,6))\n",
    "plt.subplot(121)\n",
    "plt.hist(var_desk_left[0], 10, range=(0, 0.125), density=True, facecolor='g', alpha=0.7, histtype='bar', label='left_x')\n",
    "plt.subplot(122)\n",
    "plt.hist(var_desk_left[1], 10, range=(0, 0.2), density=True, facecolor='g', alpha=0.7, histtype='bar', label='left_x')\n",
    "plt.show()"
   ]
  },
  {
   "cell_type": "code",
   "execution_count": 38,
   "metadata": {},
   "outputs": [
    {
     "data": {
      "image/png": "[encoded data removed]",
      "text/plain": [
       "<Figure size 1080x432 with 2 Axes>"
      ]
     },
     "metadata": {},
     "output_type": "display_data"
    }
   ],
   "source": [
    "plt.figure(figsize=(15,6))\n",
    "plt.subplot(121)\n",
    "plt.hist(var_desk_right[0], 10, range=(0, 0.1), density=True, facecolor='g', alpha=0.7, histtype='bar', label='left_x')\n",
    "plt.subplot(122)\n",
    "plt.hist(var_desk_right[1], 10, range=(0, 0.2), density=True, facecolor='g', alpha=0.7, histtype='bar', label='left_x')\n",
    "plt.show()"
   ]
  },
  {
   "cell_type": "code",
   "execution_count": 33,
   "metadata": {},
   "outputs": [
    {
     "data": {
      "text/plain": [
       "True"
      ]
     },
     "execution_count": 33,
     "metadata": {},
     "output_type": "execute_result"
    }
   ],
   "source": [
    "var_desk_left[0] == var_desk_right[0]"
   ]
  },
  {
   "cell_type": "code",
   "execution_count": null,
   "metadata": {
    "collapsed": true
   },
   "outputs": [],
   "source": []
  }
 ],
 "metadata": {
  "kernelspec": {
   "display_name": "Python 3",
   "language": "python",
   "name": "python3"
  },
  "language_info": {
   "codemirror_mode": {
    "name": "ipython",
    "version": 3
   },
   "file_extension": ".py",
   "mimetype": "text/x-python",
   "name": "python",
   "nbconvert_exporter": "python",
   "pygments_lexer": "ipython3",
   "version": "3.6.3"
  }
 },
 "nbformat": 4,
 "nbformat_minor": 2
}
